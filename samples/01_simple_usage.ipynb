{
 "cells": [
  {
   "cell_type": "code",
   "execution_count": 1,
   "id": "initial_id",
   "metadata": {
    "collapsed": true,
    "ExecuteTime": {
     "end_time": "2024-04-14T07:21:36.189825Z",
     "start_time": "2024-04-14T07:21:35.939794Z"
    }
   },
   "outputs": [],
   "source": [
    "from datetime import datetime\n",
    "\n",
    "import pandas as pd\n",
    "\n",
    "from prep_flow import BaseFlow, Column, ReferenceColumn, String, DateTime, Integer, modifier, creator, data_filter"
   ]
  },
  {
   "cell_type": "markdown",
   "source": [
    "## Test data"
   ],
   "metadata": {
    "collapsed": false
   },
   "id": "71b0672f5d4976eb"
  },
  {
   "cell_type": "code",
   "outputs": [
    {
     "data": {
      "text/plain": "            name gender    birthday company_code\n0    Taro Yamada    man  1995/10/19           JP\n1     John Smith    man  1990/03/20           US\n2         Li Wei    man  2003/02/01           CN\n3  Hanako Tanaka  woman  1985/11/18           JP",
      "text/html": "<div>\n<style scoped>\n    .dataframe tbody tr th:only-of-type {\n        vertical-align: middle;\n    }\n\n    .dataframe tbody tr th {\n        vertical-align: top;\n    }\n\n    .dataframe thead th {\n        text-align: right;\n    }\n</style>\n<table border=\"1\" class=\"dataframe\">\n  <thead>\n    <tr style=\"text-align: right;\">\n      <th></th>\n      <th>name</th>\n      <th>gender</th>\n      <th>birthday</th>\n      <th>company_code</th>\n    </tr>\n  </thead>\n  <tbody>\n    <tr>\n      <th>0</th>\n      <td>Taro Yamada</td>\n      <td>man</td>\n      <td>1995/10/19</td>\n      <td>JP</td>\n    </tr>\n    <tr>\n      <th>1</th>\n      <td>John Smith</td>\n      <td>man</td>\n      <td>1990/03/20</td>\n      <td>US</td>\n    </tr>\n    <tr>\n      <th>2</th>\n      <td>Li Wei</td>\n      <td>man</td>\n      <td>2003/02/01</td>\n      <td>CN</td>\n    </tr>\n    <tr>\n      <th>3</th>\n      <td>Hanako Tanaka</td>\n      <td>woman</td>\n      <td>1985/11/18</td>\n      <td>JP</td>\n    </tr>\n  </tbody>\n</table>\n</div>"
     },
     "execution_count": 8,
     "metadata": {},
     "output_type": "execute_result"
    }
   ],
   "source": [
    "df_member = pd.DataFrame({\n",
    "    \"name\": [\"Taro Yamada\", \"John Smith\", \"Li Wei\", \"Hanako Tanaka\"],\n",
    "    \"gender\": [\"man\", \"man\", \"man\", \"woman\"],\n",
    "    \"birthday\": [\"1995/10/19\", \"1990/03/20\", \"2003/02/01\", \"1985/11/18\"],\n",
    "    \"company_code\": [\"JP\", \"US\", \"CN\", \"JP\"],\n",
    "})\n",
    "\n",
    "df_member"
   ],
   "metadata": {
    "collapsed": false,
    "ExecuteTime": {
     "end_time": "2024-04-14T07:28:16.859120Z",
     "start_time": "2024-04-14T07:28:16.853645Z"
    }
   },
   "id": "64d03c12f4814fc3",
   "execution_count": 8
  },
  {
   "cell_type": "markdown",
   "source": [
    "## 01: Simple usage\n",
    "\n",
    "- The validation rules are described in class, as [pandera](https://pandera.readthedocs.io/en/stable/index.html)."
   ],
   "metadata": {
    "collapsed": false
   },
   "id": "ebf5af5a5b2ba9c2"
  },
  {
   "cell_type": "code",
   "outputs": [
    {
     "name": "stdout",
     "output_type": "stream",
     "text": [
      "            name gender   birthday company_code\n",
      "0    Taro Yamada    man 1995-10-19           JP\n",
      "1     John Smith    man 1990-03-20           US\n",
      "2         Li Wei    man 2003-02-01           CN\n",
      "3  Hanako Tanaka  woman 1985-11-18           JP\n"
     ]
    }
   ],
   "source": [
    "class MemberFlow(BaseFlow):\n",
    "    name = Column(dtype=String)\n",
    "    gender = Column(dtype=String, category=[\"man\", \"woman\"])\n",
    "    birthday = Column(dtype=DateTime)\n",
    "    company_code = Column(dtype=String, regexp=r\"[A-Z]{2}\")\n",
    "\n",
    "member = MemberFlow(df_member)\n",
    "print(member.data)"
   ],
   "metadata": {
    "collapsed": false,
    "ExecuteTime": {
     "end_time": "2024-04-14T07:51:13.813117Z",
     "start_time": "2024-04-14T07:51:13.807815Z"
    }
   },
   "id": "47a8b8b9d15df950",
   "execution_count": 22
  },
  {
   "cell_type": "markdown",
   "source": [
    "## 02: Use modifier\n",
    "\n",
    "- modifier is used to modify data.\n",
    "- There are two types of modifiers: `inline-modifier` and `decorator-modifier`.\n",
    "- The `inline-modifier` is used for processing that can be completed in a single column, such as converting a string to lowercase or adding a prefix.\n",
    "- The `decorator-modifier` is used for processing that also references other columns."
   ],
   "metadata": {
    "collapsed": false
   },
   "id": "77829a8d38d6b87d"
  },
  {
   "cell_type": "code",
   "outputs": [
    {
     "data": {
      "text/plain": "            name  gender   birthday company_code\n0    taro yamada       0 1995-10-19           JP\n1     john smith       0 1990-03-20           US\n2         li wei       0 2003-02-01           CN\n3  hanako tanaka       1 1985-11-18           JP",
      "text/html": "<div>\n<style scoped>\n    .dataframe tbody tr th:only-of-type {\n        vertical-align: middle;\n    }\n\n    .dataframe tbody tr th {\n        vertical-align: top;\n    }\n\n    .dataframe thead th {\n        text-align: right;\n    }\n</style>\n<table border=\"1\" class=\"dataframe\">\n  <thead>\n    <tr style=\"text-align: right;\">\n      <th></th>\n      <th>name</th>\n      <th>gender</th>\n      <th>birthday</th>\n      <th>company_code</th>\n    </tr>\n  </thead>\n  <tbody>\n    <tr>\n      <th>0</th>\n      <td>taro yamada</td>\n      <td>0</td>\n      <td>1995-10-19</td>\n      <td>JP</td>\n    </tr>\n    <tr>\n      <th>1</th>\n      <td>john smith</td>\n      <td>0</td>\n      <td>1990-03-20</td>\n      <td>US</td>\n    </tr>\n    <tr>\n      <th>2</th>\n      <td>li wei</td>\n      <td>0</td>\n      <td>2003-02-01</td>\n      <td>CN</td>\n    </tr>\n    <tr>\n      <th>3</th>\n      <td>hanako tanaka</td>\n      <td>1</td>\n      <td>1985-11-18</td>\n      <td>JP</td>\n    </tr>\n  </tbody>\n</table>\n</div>"
     },
     "execution_count": 10,
     "metadata": {},
     "output_type": "execute_result"
    }
   ],
   "source": [
    "# inline-modifier example\n",
    "class MemberFlow(BaseFlow):\n",
    "    name = Column(dtype=String, modifier=lambda x: x.lower())  # here!\n",
    "    gender = Column(dtype=String, category=[\"man\", \"woman\"])\n",
    "    birthday = Column(dtype=DateTime)\n",
    "    company_code = Column(dtype=String, regexp=r\"[A-Z]{2}\")\n",
    "\n",
    "member = MemberFlow(df_member)\n",
    "member.data"
   ],
   "metadata": {
    "collapsed": false,
    "ExecuteTime": {
     "end_time": "2024-04-14T07:29:31.782622Z",
     "start_time": "2024-04-14T07:29:31.748138Z"
    }
   },
   "id": "8a8ef7bf16430ac0",
   "execution_count": 10
  },
  {
   "cell_type": "code",
   "outputs": [
    {
     "data": {
      "text/plain": "               name gender   birthday company_code\n0    Mr.Taro Yamada    man 1995-10-19           JP\n1     Mr.John Smith    man 1990-03-20           US\n2         Mr.Li Wei    man 2003-02-01           CN\n3  Ms.Hanako Tanaka  woman 1985-11-18           JP",
      "text/html": "<div>\n<style scoped>\n    .dataframe tbody tr th:only-of-type {\n        vertical-align: middle;\n    }\n\n    .dataframe tbody tr th {\n        vertical-align: top;\n    }\n\n    .dataframe thead th {\n        text-align: right;\n    }\n</style>\n<table border=\"1\" class=\"dataframe\">\n  <thead>\n    <tr style=\"text-align: right;\">\n      <th></th>\n      <th>name</th>\n      <th>gender</th>\n      <th>birthday</th>\n      <th>company_code</th>\n    </tr>\n  </thead>\n  <tbody>\n    <tr>\n      <th>0</th>\n      <td>Mr.Taro Yamada</td>\n      <td>man</td>\n      <td>1995-10-19</td>\n      <td>JP</td>\n    </tr>\n    <tr>\n      <th>1</th>\n      <td>Mr.John Smith</td>\n      <td>man</td>\n      <td>1990-03-20</td>\n      <td>US</td>\n    </tr>\n    <tr>\n      <th>2</th>\n      <td>Mr.Li Wei</td>\n      <td>man</td>\n      <td>2003-02-01</td>\n      <td>CN</td>\n    </tr>\n    <tr>\n      <th>3</th>\n      <td>Ms.Hanako Tanaka</td>\n      <td>woman</td>\n      <td>1985-11-18</td>\n      <td>JP</td>\n    </tr>\n  </tbody>\n</table>\n</div>"
     },
     "execution_count": 11,
     "metadata": {},
     "output_type": "execute_result"
    }
   ],
   "source": [
    "# decorator-modifier example\n",
    "class MemberFlow(BaseFlow):\n",
    "    name = Column(dtype=String, description='Add \"Mr.\" or \"Ms.\" depending on the gender.')\n",
    "    gender = Column(dtype=String, category=[\"man\", \"woman\"])\n",
    "    birthday = Column(dtype=DateTime)\n",
    "    company_code = Column(dtype=String, regexp=r\"[A-Z]{2}\")\n",
    "    \n",
    "    # here!\n",
    "    @modifier(\"name\")\n",
    "    def modify_name(self, data: pd.DataFrame) -> pd.Series:\n",
    "        data[\"prefix\"] = data[\"gender\"].apply(lambda x: \"Mr.\" if x == \"man\" else \"Ms.\")\n",
    "        return data[\"prefix\"] + data[\"name\"]\n",
    "\n",
    "member = MemberFlow(df_member)\n",
    "member.data"
   ],
   "metadata": {
    "collapsed": false,
    "ExecuteTime": {
     "end_time": "2024-04-14T07:29:35.642660Z",
     "start_time": "2024-04-14T07:29:35.633157Z"
    }
   },
   "id": "1edbe8454f4695c3",
   "execution_count": 11
  },
  {
   "cell_type": "markdown",
   "source": [
    "## 03: Use creator\n",
    "\n",
    "- creator is used to create a new column from an existing column."
   ],
   "metadata": {
    "collapsed": false
   },
   "id": "dc5dc3de9e2a5c95"
  },
  {
   "cell_type": "code",
   "outputs": [
    {
     "data": {
      "text/plain": "            name   birthday gender company_code  age\n0    Taro Yamada 1995-10-19    man           JP   28\n1     John Smith 1990-03-20    man           US   34\n2         Li Wei 2003-02-01    man           CN   21\n3  Hanako Tanaka 1985-11-18  woman           JP   38",
      "text/html": "<div>\n<style scoped>\n    .dataframe tbody tr th:only-of-type {\n        vertical-align: middle;\n    }\n\n    .dataframe tbody tr th {\n        vertical-align: top;\n    }\n\n    .dataframe thead th {\n        text-align: right;\n    }\n</style>\n<table border=\"1\" class=\"dataframe\">\n  <thead>\n    <tr style=\"text-align: right;\">\n      <th></th>\n      <th>name</th>\n      <th>birthday</th>\n      <th>gender</th>\n      <th>company_code</th>\n      <th>age</th>\n    </tr>\n  </thead>\n  <tbody>\n    <tr>\n      <th>0</th>\n      <td>Taro Yamada</td>\n      <td>1995-10-19</td>\n      <td>man</td>\n      <td>JP</td>\n      <td>28</td>\n    </tr>\n    <tr>\n      <th>1</th>\n      <td>John Smith</td>\n      <td>1990-03-20</td>\n      <td>man</td>\n      <td>US</td>\n      <td>34</td>\n    </tr>\n    <tr>\n      <th>2</th>\n      <td>Li Wei</td>\n      <td>2003-02-01</td>\n      <td>man</td>\n      <td>CN</td>\n      <td>21</td>\n    </tr>\n    <tr>\n      <th>3</th>\n      <td>Hanako Tanaka</td>\n      <td>1985-11-18</td>\n      <td>woman</td>\n      <td>JP</td>\n      <td>38</td>\n    </tr>\n  </tbody>\n</table>\n</div>"
     },
     "execution_count": 12,
     "metadata": {},
     "output_type": "execute_result"
    }
   ],
   "source": [
    "class MemberFlow(BaseFlow):\n",
    "    name = Column(dtype=String)\n",
    "    birthday = Column(dtype=DateTime)\n",
    "    gender = Column(dtype=String, category=[\"man\", \"woman\"])\n",
    "    company_code = Column(dtype=String, regexp=r\"[A-Z]{2}\")\n",
    "    age = Column(dtype=Integer)\n",
    "    \n",
    "    # here!\n",
    "    @creator(\"age\")\n",
    "    def create_age(self, data: pd.DataFrame) -> pd.Series:\n",
    "        return data[\"birthday\"].apply(lambda x: (datetime.now() - x).days // 365)\n",
    "\n",
    "member = MemberFlow(df_member)\n",
    "member.data"
   ],
   "metadata": {
    "collapsed": false,
    "ExecuteTime": {
     "end_time": "2024-04-14T07:31:56.604568Z",
     "start_time": "2024-04-14T07:31:56.562552Z"
    }
   },
   "id": "23c509060a0677f5",
   "execution_count": 12
  },
  {
   "cell_type": "markdown",
   "source": [
    "## 04: Use data-filter\n",
    "\n",
    "- data-filter is used to extract data."
   ],
   "metadata": {
    "collapsed": false
   },
   "id": "dc49a57cf479cc45"
  },
  {
   "cell_type": "code",
   "outputs": [
    {
     "data": {
      "text/plain": "            name   birthday gender company_code\n0    Taro Yamada 1995-10-19    man           JP\n1  Hanako Tanaka 1985-11-18  woman           JP",
      "text/html": "<div>\n<style scoped>\n    .dataframe tbody tr th:only-of-type {\n        vertical-align: middle;\n    }\n\n    .dataframe tbody tr th {\n        vertical-align: top;\n    }\n\n    .dataframe thead th {\n        text-align: right;\n    }\n</style>\n<table border=\"1\" class=\"dataframe\">\n  <thead>\n    <tr style=\"text-align: right;\">\n      <th></th>\n      <th>name</th>\n      <th>birthday</th>\n      <th>gender</th>\n      <th>company_code</th>\n    </tr>\n  </thead>\n  <tbody>\n    <tr>\n      <th>0</th>\n      <td>Taro Yamada</td>\n      <td>1995-10-19</td>\n      <td>man</td>\n      <td>JP</td>\n    </tr>\n    <tr>\n      <th>1</th>\n      <td>Hanako Tanaka</td>\n      <td>1985-11-18</td>\n      <td>woman</td>\n      <td>JP</td>\n    </tr>\n  </tbody>\n</table>\n</div>"
     },
     "execution_count": 18,
     "metadata": {},
     "output_type": "execute_result"
    }
   ],
   "source": [
    "class MemberFlow(BaseFlow):\n",
    "    name = Column(dtype=String)\n",
    "    birthday = Column(dtype=DateTime)\n",
    "    gender = Column(dtype=String, category=[\"man\", \"woman\"])\n",
    "    company_code = Column(dtype=String, regexp=r\"[A-Z]{2}\")\n",
    "\n",
    "    # here!\n",
    "    @data_filter()\n",
    "    def filter_japanese(self, data: pd.DataFrame) -> pd.DataFrame:\n",
    "        return data.query('company_code == \"JP\"').reset_index(drop=True)\n",
    "\n",
    "member = MemberFlow(df_member)\n",
    "member.data"
   ],
   "metadata": {
    "collapsed": false,
    "ExecuteTime": {
     "end_time": "2024-04-14T07:39:39.643746Z",
     "start_time": "2024-04-14T07:39:39.579081Z"
    }
   },
   "id": "b494c9f35c1ce450",
   "execution_count": 18
  },
  {
   "cell_type": "markdown",
   "source": [
    "## 05: Merge a flow\n",
    "\n",
    "- We can merge flows using `ReferenceColumn`."
   ],
   "metadata": {
    "collapsed": false
   },
   "id": "a65311342d8ae4ac"
  },
  {
   "cell_type": "code",
   "outputs": [
    {
     "data": {
      "text/plain": "  company_code company_name\n0           JP        JAPAN\n1           US      AMERICA\n2           CN        CHINA",
      "text/html": "<div>\n<style scoped>\n    .dataframe tbody tr th:only-of-type {\n        vertical-align: middle;\n    }\n\n    .dataframe tbody tr th {\n        vertical-align: top;\n    }\n\n    .dataframe thead th {\n        text-align: right;\n    }\n</style>\n<table border=\"1\" class=\"dataframe\">\n  <thead>\n    <tr style=\"text-align: right;\">\n      <th></th>\n      <th>company_code</th>\n      <th>company_name</th>\n    </tr>\n  </thead>\n  <tbody>\n    <tr>\n      <th>0</th>\n      <td>JP</td>\n      <td>JAPAN</td>\n    </tr>\n    <tr>\n      <th>1</th>\n      <td>US</td>\n      <td>AMERICA</td>\n    </tr>\n    <tr>\n      <th>2</th>\n      <td>CN</td>\n      <td>CHINA</td>\n    </tr>\n  </tbody>\n</table>\n</div>"
     },
     "execution_count": 19,
     "metadata": {},
     "output_type": "execute_result"
    }
   ],
   "source": [
    "df_company_code_master = pd.DataFrame({\n",
    "    \"company_code\": [\"JP\", \"US\", \"CN\"],\n",
    "    \"company_name\": [\"JAPAN\", \"AMERICA\", \"CHINA\"],\n",
    "})\n",
    "df_company_code_master"
   ],
   "metadata": {
    "collapsed": false,
    "ExecuteTime": {
     "end_time": "2024-04-14T07:45:03.824275Z",
     "start_time": "2024-04-14T07:45:03.817302Z"
    }
   },
   "id": "9b121dbbe130d61f",
   "execution_count": 19
  },
  {
   "cell_type": "code",
   "outputs": [
    {
     "data": {
      "text/plain": "            name   birthday gender company_code company_name\n0    Taro Yamada 1995-10-19    man           JP        JAPAN\n1     John Smith 1990-03-20    man           US      AMERICA\n2         Li Wei 2003-02-01    man           CN        CHINA\n3  Hanako Tanaka 1985-11-18  woman           JP        JAPAN",
      "text/html": "<div>\n<style scoped>\n    .dataframe tbody tr th:only-of-type {\n        vertical-align: middle;\n    }\n\n    .dataframe tbody tr th {\n        vertical-align: top;\n    }\n\n    .dataframe thead th {\n        text-align: right;\n    }\n</style>\n<table border=\"1\" class=\"dataframe\">\n  <thead>\n    <tr style=\"text-align: right;\">\n      <th></th>\n      <th>name</th>\n      <th>birthday</th>\n      <th>gender</th>\n      <th>company_code</th>\n      <th>company_name</th>\n    </tr>\n  </thead>\n  <tbody>\n    <tr>\n      <th>0</th>\n      <td>Taro Yamada</td>\n      <td>1995-10-19</td>\n      <td>man</td>\n      <td>JP</td>\n      <td>JAPAN</td>\n    </tr>\n    <tr>\n      <th>1</th>\n      <td>John Smith</td>\n      <td>1990-03-20</td>\n      <td>man</td>\n      <td>US</td>\n      <td>AMERICA</td>\n    </tr>\n    <tr>\n      <th>2</th>\n      <td>Li Wei</td>\n      <td>2003-02-01</td>\n      <td>man</td>\n      <td>CN</td>\n      <td>CHINA</td>\n    </tr>\n    <tr>\n      <th>3</th>\n      <td>Hanako Tanaka</td>\n      <td>1985-11-18</td>\n      <td>woman</td>\n      <td>JP</td>\n      <td>JAPAN</td>\n    </tr>\n  </tbody>\n</table>\n</div>"
     },
     "execution_count": 21,
     "metadata": {},
     "output_type": "execute_result"
    }
   ],
   "source": [
    "class CompanyCodeMasterFlow(BaseFlow):\n",
    "    company_code = Column(dtype=String, regexp=r\"[A-Z]{2}\")\n",
    "    company_name = Column(dtype=String)\n",
    "\n",
    "class MemberFlow(BaseFlow):\n",
    "    name = Column(dtype=String)\n",
    "    birthday = Column(dtype=DateTime)\n",
    "    gender = Column(dtype=String, category=[\"man\", \"woman\"])\n",
    "    company_code = Column(dtype=String, regexp=r\"[A-Z]{2}\")\n",
    "    company_name = ReferenceColumn(CompanyCodeMasterFlow.company_name, how=\"left\", on=\"company_code\")  # here!\n",
    "    \n",
    "company_code_master = CompanyCodeMasterFlow(df_company_code_master)\n",
    "member = MemberFlow(df_member, reference=[company_code_master])\n",
    "member.data"
   ],
   "metadata": {
    "collapsed": false,
    "ExecuteTime": {
     "end_time": "2024-04-14T07:47:59.850344Z",
     "start_time": "2024-04-14T07:47:59.802906Z"
    }
   },
   "id": "14508fe6f4f45b77",
   "execution_count": 21
  },
  {
   "cell_type": "code",
   "outputs": [],
   "source": [],
   "metadata": {
    "collapsed": false
   },
   "id": "b80a31351af00c0e"
  }
 ],
 "metadata": {
  "kernelspec": {
   "display_name": "Python 3",
   "language": "python",
   "name": "python3"
  },
  "language_info": {
   "codemirror_mode": {
    "name": "ipython",
    "version": 2
   },
   "file_extension": ".py",
   "mimetype": "text/x-python",
   "name": "python",
   "nbconvert_exporter": "python",
   "pygments_lexer": "ipython2",
   "version": "2.7.6"
  }
 },
 "nbformat": 4,
 "nbformat_minor": 5
}
