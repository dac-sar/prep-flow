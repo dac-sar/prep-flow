{
 "cells": [
  {
   "cell_type": "code",
   "execution_count": 1,
   "id": "initial_id",
   "metadata": {
    "collapsed": true,
    "ExecuteTime": {
     "end_time": "2024-04-14T04:44:13.130446Z",
     "start_time": "2024-04-14T04:44:12.895886Z"
    }
   },
   "outputs": [],
   "source": [
    "from datetime import datetime\n",
    "\n",
    "import pandas as pd\n",
    "\n",
    "from prep_flow import BaseFlow, Column, ReferenceColumn, String, DateTime, Integer, modifier, creator, data_filter"
   ]
  },
  {
   "cell_type": "markdown",
   "source": [
    "## 01: Simple usage"
   ],
   "metadata": {
    "collapsed": false
   },
   "id": "77829a8d38d6b87d"
  },
  {
   "cell_type": "code",
   "outputs": [
    {
     "data": {
      "text/plain": "          name    birthday company_code\n0  Taro Yamada  1995/10/19           JP\n1   John Smith  1990/03/20           US\n2       Li Wei  2003/02/01           CN\n3  Jiro Tanaka  1985/11/18           JP",
      "text/html": "<div>\n<style scoped>\n    .dataframe tbody tr th:only-of-type {\n        vertical-align: middle;\n    }\n\n    .dataframe tbody tr th {\n        vertical-align: top;\n    }\n\n    .dataframe thead th {\n        text-align: right;\n    }\n</style>\n<table border=\"1\" class=\"dataframe\">\n  <thead>\n    <tr style=\"text-align: right;\">\n      <th></th>\n      <th>name</th>\n      <th>birthday</th>\n      <th>company_code</th>\n    </tr>\n  </thead>\n  <tbody>\n    <tr>\n      <th>0</th>\n      <td>Taro Yamada</td>\n      <td>1995/10/19</td>\n      <td>JP</td>\n    </tr>\n    <tr>\n      <th>1</th>\n      <td>John Smith</td>\n      <td>1990/03/20</td>\n      <td>US</td>\n    </tr>\n    <tr>\n      <th>2</th>\n      <td>Li Wei</td>\n      <td>2003/02/01</td>\n      <td>CN</td>\n    </tr>\n    <tr>\n      <th>3</th>\n      <td>Jiro Tanaka</td>\n      <td>1985/11/18</td>\n      <td>JP</td>\n    </tr>\n  </tbody>\n</table>\n</div>"
     },
     "execution_count": 2,
     "metadata": {},
     "output_type": "execute_result"
    }
   ],
   "source": [
    "df_member = pd.DataFrame({\n",
    "    \"name\": [\"Taro Yamada\", \"John Smith\", \"Li Wei\", \"Jiro Tanaka\"],\n",
    "    \"birthday\": [\"1995/10/19\", \"1990/03/20\", \"2003/02/01\", \"1985/11/18\"],\n",
    "    \"company_code\": [\"JP\", \"US\", \"CN\", \"JP\"],\n",
    "})\n",
    "\n",
    "df_member"
   ],
   "metadata": {
    "collapsed": false,
    "ExecuteTime": {
     "end_time": "2024-04-14T04:44:22.645991Z",
     "start_time": "2024-04-14T04:44:22.623388Z"
    }
   },
   "id": "f829722b0008eb5b",
   "execution_count": 2
  },
  {
   "cell_type": "code",
   "outputs": [],
   "source": [
    "class MemberFlow(BaseFlow):\n",
    "    name = Column(dtype=String, name=\"name\")\n",
    "    birthday = Column(dtype=DateTime, original_dtype=DateTime)\n",
    "    age = Column(dtype=Integer)\n",
    "    company_code = Column(dtype=String, original_regexp=r\"[A-Z]{2}\")\n",
    "    \n",
    "    @modifier(\"name\")\n",
    "    def modify_name(self, data: pd.DataFrame) -> pd.Series:\n",
    "        return data[\"name\"].str.lower()\n",
    "    \n",
    "    @creator(\"age\")\n",
    "    def create_age(self, data: pd.DataFrame) -> pd.Series:\n",
    "        return data[\"birthday\"].apply(lambda x: (datetime.now() - x).days // 365)"
   ],
   "metadata": {
    "collapsed": false,
    "ExecuteTime": {
     "end_time": "2024-04-14T04:44:23.455631Z",
     "start_time": "2024-04-14T04:44:23.448730Z"
    }
   },
   "id": "23c509060a0677f5",
   "execution_count": 3
  },
  {
   "cell_type": "code",
   "outputs": [
    {
     "ename": "DecoratorError",
     "evalue": "You have specified a column name that does not exist.(column: hoge)",
     "output_type": "error",
     "traceback": [
      "\u001B[0;31m---------------------------------------------------------------------------\u001B[0m",
      "\u001B[0;31mDecoratorError\u001B[0m                            Traceback (most recent call last)",
      "Cell \u001B[0;32mIn[4], line 1\u001B[0m\n\u001B[0;32m----> 1\u001B[0m member \u001B[38;5;241m=\u001B[39m \u001B[43mMemberFlow\u001B[49m\u001B[43m(\u001B[49m\u001B[43mdf_member\u001B[49m\u001B[43m)\u001B[49m\n\u001B[1;32m      2\u001B[0m member\u001B[38;5;241m.\u001B[39mdata\n",
      "File \u001B[0;32m/opt/project/prep_flow/base.py:41\u001B[0m, in \u001B[0;36mBaseFlow.__init__\u001B[0;34m(self, data, reference)\u001B[0m\n\u001B[1;32m     38\u001B[0m \u001B[38;5;28mself\u001B[39m\u001B[38;5;241m.\u001B[39mreference \u001B[38;5;241m=\u001B[39m [] \u001B[38;5;28;01mif\u001B[39;00m reference \u001B[38;5;129;01mis\u001B[39;00m \u001B[38;5;28;01mNone\u001B[39;00m \u001B[38;5;28;01melse\u001B[39;00m reference\n\u001B[1;32m     39\u001B[0m \u001B[38;5;28mself\u001B[39m\u001B[38;5;241m.\u001B[39mvalidator \u001B[38;5;241m=\u001B[39m Validator()\n\u001B[0;32m---> 41\u001B[0m \u001B[38;5;28;43mself\u001B[39;49m\u001B[38;5;241;43m.\u001B[39;49m\u001B[43mexecute\u001B[49m\u001B[43m(\u001B[49m\u001B[43m)\u001B[49m\n",
      "File \u001B[0;32m/opt/project/prep_flow/base.py:109\u001B[0m, in \u001B[0;36mBaseFlow.execute\u001B[0;34m(self)\u001B[0m\n\u001B[1;32m    106\u001B[0m \u001B[38;5;28mself\u001B[39m\u001B[38;5;241m.\u001B[39mapply_column_modifier(order\u001B[38;5;241m=\u001B[39morder)\n\u001B[1;32m    108\u001B[0m \u001B[38;5;66;03m# Modify values with decorator referring to Column.\u001B[39;00m\n\u001B[0;32m--> 109\u001B[0m \u001B[38;5;28;43mself\u001B[39;49m\u001B[38;5;241;43m.\u001B[39;49m\u001B[43mapply_column_modifier_with_decorator\u001B[49m\u001B[43m(\u001B[49m\u001B[43morder\u001B[49m\u001B[38;5;241;43m=\u001B[39;49m\u001B[43morder\u001B[49m\u001B[43m)\u001B[49m\n\u001B[1;32m    111\u001B[0m \u001B[38;5;66;03m# Create user defined columns with decorator.\u001B[39;00m\n\u001B[1;32m    112\u001B[0m \u001B[38;5;28mself\u001B[39m\u001B[38;5;241m.\u001B[39mapply_creator_with_decorator(order\u001B[38;5;241m=\u001B[39morder)\n",
      "File \u001B[0;32m/opt/project/prep_flow/base.py:418\u001B[0m, in \u001B[0;36mBaseFlow.apply_column_modifier_with_decorator\u001B[0;34m(self, order)\u001B[0m\n\u001B[1;32m    416\u001B[0m     \u001B[38;5;28;01mcontinue\u001B[39;00m\n\u001B[1;32m    417\u001B[0m \u001B[38;5;28;01mif\u001B[39;00m _column \u001B[38;5;129;01mnot\u001B[39;00m \u001B[38;5;129;01min\u001B[39;00m \u001B[38;5;28mself\u001B[39m\u001B[38;5;241m.\u001B[39mcolumns(only_base\u001B[38;5;241m=\u001B[39m\u001B[38;5;28;01mTrue\u001B[39;00m):\n\u001B[0;32m--> 418\u001B[0m     \u001B[38;5;28;01mraise\u001B[39;00m DecoratorError(\n\u001B[1;32m    419\u001B[0m         column\u001B[38;5;241m=\u001B[39m_column,\n\u001B[1;32m    420\u001B[0m         detail\u001B[38;5;241m=\u001B[39m\u001B[38;5;124mf\u001B[39m\u001B[38;5;124m'\u001B[39m\u001B[38;5;124mYou have specified a column name that does not exist.(column: \u001B[39m\u001B[38;5;132;01m{\u001B[39;00m_column\u001B[38;5;132;01m}\u001B[39;00m\u001B[38;5;124m)\u001B[39m\u001B[38;5;124m'\u001B[39m,\n\u001B[1;32m    421\u001B[0m     )\n\u001B[1;32m    422\u001B[0m \u001B[38;5;28;01mif\u001B[39;00m \u001B[38;5;28mself\u001B[39m\u001B[38;5;241m.\u001B[39mget_num_of_args(attr) \u001B[38;5;241m==\u001B[39m \u001B[38;5;241m1\u001B[39m:\n\u001B[1;32m    423\u001B[0m     \u001B[38;5;28mself\u001B[39m\u001B[38;5;241m.\u001B[39mdata[_column] \u001B[38;5;241m=\u001B[39m \u001B[38;5;28mgetattr\u001B[39m(\u001B[38;5;28mself\u001B[39m, attr)()\n",
      "\u001B[0;31mDecoratorError\u001B[0m: You have specified a column name that does not exist.(column: hoge)"
     ]
    }
   ],
   "source": [
    "member = MemberFlow(df_member)\n",
    "member.data"
   ],
   "metadata": {
    "collapsed": false,
    "ExecuteTime": {
     "end_time": "2024-04-14T04:44:24.645085Z",
     "start_time": "2024-04-14T04:44:24.583337Z"
    }
   },
   "id": "2f95bbaed192be26",
   "execution_count": 4
  },
  {
   "cell_type": "markdown",
   "source": [
    "## 02: Filter"
   ],
   "metadata": {
    "collapsed": false
   },
   "id": "dc49a57cf479cc45"
  },
  {
   "cell_type": "code",
   "outputs": [],
   "source": [
    "class MemberFlow(BaseFlow):\n",
    "    name = Column(dtype=String, name=\"name\")\n",
    "    birthday = Column(dtype=DateTime, original_dtype=DateTime)\n",
    "    age = Column(dtype=Integer)\n",
    "    company_code = Column(dtype=String, original_regexp=r\"[A-Z]{2}\")\n",
    "    \n",
    "    @modifier(\"name\")\n",
    "    def modify_name(self, data: pd.DataFrame) -> pd.Series:\n",
    "        return data[\"name\"].str.lower()\n",
    "    \n",
    "    @creator(\"age\")\n",
    "    def create_age(self, data: pd.DataFrame) -> pd.Series:\n",
    "        return data[\"birthday\"].apply(lambda x: (datetime.now() - x).days // 365)\n",
    "    \n",
    "    # Add this lines!\n",
    "    @data_filter()\n",
    "    def filter_japanese(self, data: pd.DataFrame) -> pd.DataFrame:\n",
    "        return data.query('company_code == \"JP\"').reset_index(drop=True)"
   ],
   "metadata": {
    "collapsed": false,
    "ExecuteTime": {
     "end_time": "2024-04-14T04:44:57.174207Z",
     "start_time": "2024-04-14T04:44:57.170867Z"
    }
   },
   "id": "b494c9f35c1ce450",
   "execution_count": 5
  },
  {
   "cell_type": "code",
   "outputs": [
    {
     "ename": "DecoratorReturnTypeError",
     "evalue": "Expected return type is pd.DataFrame, But you return f<class 'int'>",
     "output_type": "error",
     "traceback": [
      "\u001B[0;31m---------------------------------------------------------------------------\u001B[0m",
      "\u001B[0;31mDecoratorReturnTypeError\u001B[0m                  Traceback (most recent call last)",
      "Cell \u001B[0;32mIn[6], line 1\u001B[0m\n\u001B[0;32m----> 1\u001B[0m member \u001B[38;5;241m=\u001B[39m \u001B[43mMemberFlow\u001B[49m\u001B[43m(\u001B[49m\u001B[43mdf_member\u001B[49m\u001B[43m)\u001B[49m\n\u001B[1;32m      2\u001B[0m member\u001B[38;5;241m.\u001B[39mdata\n",
      "File \u001B[0;32m/opt/project/prep_flow/base.py:41\u001B[0m, in \u001B[0;36mBaseFlow.__init__\u001B[0;34m(self, data, reference)\u001B[0m\n\u001B[1;32m     38\u001B[0m \u001B[38;5;28mself\u001B[39m\u001B[38;5;241m.\u001B[39mreference \u001B[38;5;241m=\u001B[39m [] \u001B[38;5;28;01mif\u001B[39;00m reference \u001B[38;5;129;01mis\u001B[39;00m \u001B[38;5;28;01mNone\u001B[39;00m \u001B[38;5;28;01melse\u001B[39;00m reference\n\u001B[1;32m     39\u001B[0m \u001B[38;5;28mself\u001B[39m\u001B[38;5;241m.\u001B[39mvalidator \u001B[38;5;241m=\u001B[39m Validator()\n\u001B[0;32m---> 41\u001B[0m \u001B[38;5;28;43mself\u001B[39;49m\u001B[38;5;241;43m.\u001B[39;49m\u001B[43mexecute\u001B[49m\u001B[43m(\u001B[49m\u001B[43m)\u001B[49m\n",
      "File \u001B[0;32m/opt/project/prep_flow/base.py:115\u001B[0m, in \u001B[0;36mBaseFlow.execute\u001B[0;34m(self)\u001B[0m\n\u001B[1;32m    112\u001B[0m \u001B[38;5;28mself\u001B[39m\u001B[38;5;241m.\u001B[39mapply_creator_with_decorator(order\u001B[38;5;241m=\u001B[39morder)\n\u001B[1;32m    114\u001B[0m \u001B[38;5;66;03m# Filter data.\u001B[39;00m\n\u001B[0;32m--> 115\u001B[0m \u001B[38;5;28;43mself\u001B[39;49m\u001B[38;5;241;43m.\u001B[39;49m\u001B[43mapply_filter_with_decorator\u001B[49m\u001B[43m(\u001B[49m\u001B[43morder\u001B[49m\u001B[38;5;241;43m=\u001B[39;49m\u001B[43morder\u001B[49m\u001B[43m)\u001B[49m\n\u001B[1;32m    117\u001B[0m \u001B[38;5;66;03m# Merge Reference columns.\u001B[39;00m\n\u001B[1;32m    118\u001B[0m \u001B[38;5;28mself\u001B[39m\u001B[38;5;241m.\u001B[39mmerge(order\u001B[38;5;241m=\u001B[39morder)\n",
      "File \u001B[0;32m/opt/project/prep_flow/base.py:446\u001B[0m, in \u001B[0;36mBaseFlow.apply_filter_with_decorator\u001B[0;34m(self, order)\u001B[0m\n\u001B[1;32m    444\u001B[0m result \u001B[38;5;241m=\u001B[39m \u001B[38;5;28mgetattr\u001B[39m(\u001B[38;5;28mself\u001B[39m, attr)(\u001B[38;5;28mself\u001B[39m\u001B[38;5;241m.\u001B[39mdata\u001B[38;5;241m.\u001B[39mcopy())\n\u001B[1;32m    445\u001B[0m \u001B[38;5;28;01mif\u001B[39;00m \u001B[38;5;129;01mnot\u001B[39;00m \u001B[38;5;28misinstance\u001B[39m(result, pd\u001B[38;5;241m.\u001B[39mDataFrame):\n\u001B[0;32m--> 446\u001B[0m     \u001B[38;5;28;01mraise\u001B[39;00m DecoratorReturnTypeError(\n\u001B[1;32m    447\u001B[0m         dtype\u001B[38;5;241m=\u001B[39m\u001B[38;5;28mtype\u001B[39m(result),\n\u001B[1;32m    448\u001B[0m         detail\u001B[38;5;241m=\u001B[39m\u001B[38;5;124mf\u001B[39m\u001B[38;5;124m'\u001B[39m\u001B[38;5;124mExpected return type is pd.DataFrame, But you return f\u001B[39m\u001B[38;5;132;01m{\u001B[39;00m\u001B[38;5;28mtype\u001B[39m(result)\u001B[38;5;132;01m}\u001B[39;00m\u001B[38;5;124m'\u001B[39m,\n\u001B[1;32m    449\u001B[0m     )\n\u001B[1;32m    450\u001B[0m \u001B[38;5;28mself\u001B[39m\u001B[38;5;241m.\u001B[39mdata \u001B[38;5;241m=\u001B[39m result\n",
      "\u001B[0;31mDecoratorReturnTypeError\u001B[0m: Expected return type is pd.DataFrame, But you return f<class 'int'>"
     ]
    }
   ],
   "source": [
    "member = MemberFlow(df_member)\n",
    "member.data"
   ],
   "metadata": {
    "collapsed": false,
    "ExecuteTime": {
     "end_time": "2024-04-14T04:44:58.083737Z",
     "start_time": "2024-04-14T04:44:57.974414Z"
    }
   },
   "id": "d2db648400c69d79",
   "execution_count": 6
  },
  {
   "cell_type": "markdown",
   "source": [
    "## 03: Merge another flow"
   ],
   "metadata": {
    "collapsed": false
   },
   "id": "a65311342d8ae4ac"
  },
  {
   "cell_type": "code",
   "outputs": [
    {
     "data": {
      "text/plain": "  company_code company_name\n0           JP        JAPAN\n1           US      AMERICA\n2           CN        CHINA",
      "text/html": "<div>\n<style scoped>\n    .dataframe tbody tr th:only-of-type {\n        vertical-align: middle;\n    }\n\n    .dataframe tbody tr th {\n        vertical-align: top;\n    }\n\n    .dataframe thead th {\n        text-align: right;\n    }\n</style>\n<table border=\"1\" class=\"dataframe\">\n  <thead>\n    <tr style=\"text-align: right;\">\n      <th></th>\n      <th>company_code</th>\n      <th>company_name</th>\n    </tr>\n  </thead>\n  <tbody>\n    <tr>\n      <th>0</th>\n      <td>JP</td>\n      <td>JAPAN</td>\n    </tr>\n    <tr>\n      <th>1</th>\n      <td>US</td>\n      <td>AMERICA</td>\n    </tr>\n    <tr>\n      <th>2</th>\n      <td>CN</td>\n      <td>CHINA</td>\n    </tr>\n  </tbody>\n</table>\n</div>"
     },
     "execution_count": 10,
     "metadata": {},
     "output_type": "execute_result"
    }
   ],
   "source": [
    "df_company_code_master = pd.DataFrame({\n",
    "    \"company_code\": [\"JP\", \"US\", \"CN\"],\n",
    "    \"company_name\": [\"JAPAN\", \"AMERICA\", \"CHINA\"],\n",
    "})\n",
    "df_company_code_master"
   ],
   "metadata": {
    "collapsed": false,
    "ExecuteTime": {
     "end_time": "2024-04-14T00:34:31.588201Z",
     "start_time": "2024-04-14T00:34:31.567624Z"
    }
   },
   "id": "9b121dbbe130d61f",
   "execution_count": 10
  },
  {
   "cell_type": "code",
   "outputs": [],
   "source": [
    "class CompanyCodeMasterFlow(BaseFlow):\n",
    "    company_code = Column(dtype=String, original_regexp=r\"[A-Z]{2}\")\n",
    "    company_name = Column(dtype=String)\n",
    "\n",
    "class MemberFlow(BaseFlow):\n",
    "    name = Column(dtype=String, name=\"name\")\n",
    "    birthday = Column(dtype=DateTime, original_dtype=DateTime)\n",
    "    company_code = Column(dtype=String, original_regexp=r\"[A-Z]{2}\")\n",
    "    # Add this line!\n",
    "    company_name = ReferenceColumn(CompanyCodeMasterFlow.company_name, how=\"left\", on=\"company_code\")"
   ],
   "metadata": {
    "collapsed": false,
    "ExecuteTime": {
     "end_time": "2024-04-14T00:38:21.361615Z",
     "start_time": "2024-04-14T00:38:21.355611Z"
    }
   },
   "id": "14508fe6f4f45b77",
   "execution_count": 22
  }
 ],
 "metadata": {
  "kernelspec": {
   "display_name": "Python 3",
   "language": "python",
   "name": "python3"
  },
  "language_info": {
   "codemirror_mode": {
    "name": "ipython",
    "version": 2
   },
   "file_extension": ".py",
   "mimetype": "text/x-python",
   "name": "python",
   "nbconvert_exporter": "python",
   "pygments_lexer": "ipython2",
   "version": "2.7.6"
  }
 },
 "nbformat": 4,
 "nbformat_minor": 5
}
