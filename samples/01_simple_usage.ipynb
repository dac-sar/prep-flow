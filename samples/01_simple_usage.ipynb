{
 "cells": [
  {
   "cell_type": "code",
   "execution_count": 1,
   "id": "initial_id",
   "metadata": {
    "collapsed": true,
    "ExecuteTime": {
     "end_time": "2024-04-14T00:09:21.846292Z",
     "start_time": "2024-04-14T00:09:21.568426Z"
    }
   },
   "outputs": [],
   "source": [
    "from datetime import datetime\n",
    "\n",
    "import pandas as pd\n",
    "\n",
    "from prep_flow import BaseFlow, Column, ReferenceColumn, String, DateTime, Integer, modifier, creator, data_filter"
   ]
  },
  {
   "cell_type": "markdown",
   "source": [
    "## 01: Simple usage"
   ],
   "metadata": {
    "collapsed": false
   },
   "id": "77829a8d38d6b87d"
  },
  {
   "cell_type": "code",
   "outputs": [
    {
     "data": {
      "text/plain": "          name    birthday company_code\n0  Taro Yamada  1995/10/19           JP\n1   John Smith  1990/03/20           US\n2       Li Wei  2003/02/01           CN\n3  Jiro Tanaka  1985/11/18           JP",
      "text/html": "<div>\n<style scoped>\n    .dataframe tbody tr th:only-of-type {\n        vertical-align: middle;\n    }\n\n    .dataframe tbody tr th {\n        vertical-align: top;\n    }\n\n    .dataframe thead th {\n        text-align: right;\n    }\n</style>\n<table border=\"1\" class=\"dataframe\">\n  <thead>\n    <tr style=\"text-align: right;\">\n      <th></th>\n      <th>name</th>\n      <th>birthday</th>\n      <th>company_code</th>\n    </tr>\n  </thead>\n  <tbody>\n    <tr>\n      <th>0</th>\n      <td>Taro Yamada</td>\n      <td>1995/10/19</td>\n      <td>JP</td>\n    </tr>\n    <tr>\n      <th>1</th>\n      <td>John Smith</td>\n      <td>1990/03/20</td>\n      <td>US</td>\n    </tr>\n    <tr>\n      <th>2</th>\n      <td>Li Wei</td>\n      <td>2003/02/01</td>\n      <td>CN</td>\n    </tr>\n    <tr>\n      <th>3</th>\n      <td>Jiro Tanaka</td>\n      <td>1985/11/18</td>\n      <td>JP</td>\n    </tr>\n  </tbody>\n</table>\n</div>"
     },
     "execution_count": 26,
     "metadata": {},
     "output_type": "execute_result"
    }
   ],
   "source": [
    "df_member = pd.DataFrame({\n",
    "    \"name\": [\"Taro Yamada\", \"John Smith\", \"Li Wei\", \"Jiro Tanaka\"],\n",
    "    \"birthday\": [\"1995/10/19\", \"1990/03/20\", \"2003/02/01\", \"1985/11/18\"],\n",
    "    \"company_code\": [\"JP\", \"US\", \"CN\", \"JP\"],\n",
    "})\n",
    "\n",
    "df_member"
   ],
   "metadata": {
    "collapsed": false,
    "ExecuteTime": {
     "end_time": "2024-04-13T08:24:52.442364Z",
     "start_time": "2024-04-13T08:24:52.428025Z"
    }
   },
   "id": "f829722b0008eb5b",
   "execution_count": 26
  },
  {
   "cell_type": "code",
   "outputs": [],
   "source": [
    "class MemberFlow(BaseFlow):\n",
    "    name = Column(dtype=String, name=\"name\")\n",
    "    birthday = Column(dtype=DateTime, original_dtype=DateTime)\n",
    "    age = Column(dtype=Integer)\n",
    "    company_code = Column(dtype=String, original_regexp=r\"[A-Z]{2}\")\n",
    "    \n",
    "    @modifier(\"name\")\n",
    "    def modify_name(self, data: pd.DataFrame) -> pd.Series:\n",
    "        return data[\"name\"].str.lower()\n",
    "    \n",
    "    @creator(\"age\")\n",
    "    def create_age(self, data: pd.DataFrame) -> pd.Series:\n",
    "        return data[\"birthday\"].apply(lambda x: (datetime.now() - x).days // 365)"
   ],
   "metadata": {
    "collapsed": false,
    "ExecuteTime": {
     "end_time": "2024-04-13T08:24:54.594798Z",
     "start_time": "2024-04-13T08:24:54.592057Z"
    }
   },
   "id": "23c509060a0677f5",
   "execution_count": 27
  },
  {
   "cell_type": "code",
   "outputs": [
    {
     "data": {
      "text/plain": "          name   birthday  age company_code\n0  taro yamada 1995-10-19   28           JP\n1  jiro tanaka 1985-11-18   38           JP",
      "text/html": "<div>\n<style scoped>\n    .dataframe tbody tr th:only-of-type {\n        vertical-align: middle;\n    }\n\n    .dataframe tbody tr th {\n        vertical-align: top;\n    }\n\n    .dataframe thead th {\n        text-align: right;\n    }\n</style>\n<table border=\"1\" class=\"dataframe\">\n  <thead>\n    <tr style=\"text-align: right;\">\n      <th></th>\n      <th>name</th>\n      <th>birthday</th>\n      <th>age</th>\n      <th>company_code</th>\n    </tr>\n  </thead>\n  <tbody>\n    <tr>\n      <th>0</th>\n      <td>taro yamada</td>\n      <td>1995-10-19</td>\n      <td>28</td>\n      <td>JP</td>\n    </tr>\n    <tr>\n      <th>1</th>\n      <td>jiro tanaka</td>\n      <td>1985-11-18</td>\n      <td>38</td>\n      <td>JP</td>\n    </tr>\n  </tbody>\n</table>\n</div>"
     },
     "execution_count": 46,
     "metadata": {},
     "output_type": "execute_result"
    }
   ],
   "source": [
    "member = MemberFlow(df_member)\n",
    "member.data"
   ],
   "metadata": {
    "collapsed": false,
    "ExecuteTime": {
     "end_time": "2024-04-13T08:39:23.647709Z",
     "start_time": "2024-04-13T08:39:23.643995Z"
    }
   },
   "id": "2f95bbaed192be26",
   "execution_count": 46
  },
  {
   "cell_type": "markdown",
   "source": [
    "## 02: Filter"
   ],
   "metadata": {
    "collapsed": false
   },
   "id": "dc49a57cf479cc45"
  },
  {
   "cell_type": "code",
   "outputs": [],
   "source": [
    "class MemberFlow(BaseFlow):\n",
    "    name = Column(dtype=String, name=\"name\")\n",
    "    birthday = Column(dtype=DateTime, original_dtype=DateTime)\n",
    "    age = Column(dtype=Integer)\n",
    "    company_code = Column(dtype=String, original_regexp=r\"[A-Z]{2}\")\n",
    "    \n",
    "    @modifier(\"name\")\n",
    "    def modify_name(self, data: pd.DataFrame) -> pd.Series:\n",
    "        return data[\"name\"].str.lower()\n",
    "    \n",
    "    @creator(\"age\")\n",
    "    def create_age(self, data: pd.DataFrame) -> pd.Series:\n",
    "        return data[\"birthday\"].apply(lambda x: (datetime.now() - x).days // 365)\n",
    "    \n",
    "    # Add this lines!\n",
    "    @data_filter()\n",
    "    def filter_japanese(self, data: pd.DataFrame) -> pd.DataFrame:\n",
    "        return data.query('company_code == \"JP\"').reset_index(drop=True)"
   ],
   "metadata": {
    "collapsed": false,
    "ExecuteTime": {
     "end_time": "2024-04-13T08:39:09.729379Z",
     "start_time": "2024-04-13T08:39:09.724960Z"
    }
   },
   "id": "b494c9f35c1ce450",
   "execution_count": 44
  },
  {
   "cell_type": "code",
   "outputs": [
    {
     "data": {
      "text/plain": "          name   birthday  age company_code\n0  taro yamada 1995-10-19   28           JP\n1  jiro tanaka 1985-11-18   38           JP",
      "text/html": "<div>\n<style scoped>\n    .dataframe tbody tr th:only-of-type {\n        vertical-align: middle;\n    }\n\n    .dataframe tbody tr th {\n        vertical-align: top;\n    }\n\n    .dataframe thead th {\n        text-align: right;\n    }\n</style>\n<table border=\"1\" class=\"dataframe\">\n  <thead>\n    <tr style=\"text-align: right;\">\n      <th></th>\n      <th>name</th>\n      <th>birthday</th>\n      <th>age</th>\n      <th>company_code</th>\n    </tr>\n  </thead>\n  <tbody>\n    <tr>\n      <th>0</th>\n      <td>taro yamada</td>\n      <td>1995-10-19</td>\n      <td>28</td>\n      <td>JP</td>\n    </tr>\n    <tr>\n      <th>1</th>\n      <td>jiro tanaka</td>\n      <td>1985-11-18</td>\n      <td>38</td>\n      <td>JP</td>\n    </tr>\n  </tbody>\n</table>\n</div>"
     },
     "execution_count": 45,
     "metadata": {},
     "output_type": "execute_result"
    }
   ],
   "source": [
    "member = MemberFlow(df_member)\n",
    "member.data"
   ],
   "metadata": {
    "collapsed": false,
    "ExecuteTime": {
     "end_time": "2024-04-13T08:39:10.121449Z",
     "start_time": "2024-04-13T08:39:10.063463Z"
    }
   },
   "id": "d2db648400c69d79",
   "execution_count": 45
  },
  {
   "cell_type": "markdown",
   "source": [
    "## 03: Merge another flow"
   ],
   "metadata": {
    "collapsed": false
   },
   "id": "a65311342d8ae4ac"
  },
  {
   "cell_type": "code",
   "outputs": [
    {
     "data": {
      "text/plain": "  company_code company_name\n0           JP        JAPAN\n1           US      AMERICA\n2           CN        CHINA",
      "text/html": "<div>\n<style scoped>\n    .dataframe tbody tr th:only-of-type {\n        vertical-align: middle;\n    }\n\n    .dataframe tbody tr th {\n        vertical-align: top;\n    }\n\n    .dataframe thead th {\n        text-align: right;\n    }\n</style>\n<table border=\"1\" class=\"dataframe\">\n  <thead>\n    <tr style=\"text-align: right;\">\n      <th></th>\n      <th>company_code</th>\n      <th>company_name</th>\n    </tr>\n  </thead>\n  <tbody>\n    <tr>\n      <th>0</th>\n      <td>JP</td>\n      <td>JAPAN</td>\n    </tr>\n    <tr>\n      <th>1</th>\n      <td>US</td>\n      <td>AMERICA</td>\n    </tr>\n    <tr>\n      <th>2</th>\n      <td>CN</td>\n      <td>CHINA</td>\n    </tr>\n  </tbody>\n</table>\n</div>"
     },
     "execution_count": 39,
     "metadata": {},
     "output_type": "execute_result"
    }
   ],
   "source": [
    "df_company_code_master = pd.DataFrame({\n",
    "    \"company_code\": [\"JP\", \"US\", \"CN\"],\n",
    "    \"company_name\": [\"JAPAN\", \"AMERICA\", \"CHINA\"],\n",
    "})\n",
    "df_company_code_master"
   ],
   "metadata": {
    "collapsed": false,
    "ExecuteTime": {
     "end_time": "2024-04-13T08:35:27.350315Z",
     "start_time": "2024-04-13T08:35:27.323779Z"
    }
   },
   "id": "9b121dbbe130d61f",
   "execution_count": 39
  },
  {
   "cell_type": "code",
   "outputs": [],
   "source": [
    "class CompanyCodeMasterFlow(BaseFlow):\n",
    "    company_code = Column(dtype=String, original_regexp=r\"[A-Z]{2}\")\n",
    "    company_name = Column(dtype=String)\n",
    "\n",
    "class MemberFlow(BaseFlow):\n",
    "    name = Column(dtype=String, name=\"name\")\n",
    "    birthday = Column(dtype=DateTime, original_dtype=DateTime)\n",
    "    company_code = Column(dtype=String, original_regexp=r\"[A-Z]{2}\")\n",
    "    # Add this line!\n",
    "    company_name = ReferenceColumn(CompanyCodeMasterFlow.company_name, how=\"left\", on=\"company_code\")"
   ],
   "metadata": {
    "collapsed": false,
    "ExecuteTime": {
     "end_time": "2024-04-13T08:40:19.958299Z",
     "start_time": "2024-04-13T08:40:19.954630Z"
    }
   },
   "id": "14508fe6f4f45b77",
   "execution_count": 48
  },
  {
   "cell_type": "code",
   "outputs": [
    {
     "data": {
      "text/plain": "          name   birthday company_code company_name\n0  Taro Yamada 1995-10-19           JP        JAPAN\n1   John Smith 1990-03-20           US      AMERICA\n2       Li Wei 2003-02-01           CN        CHINA\n3  Jiro Tanaka 1985-11-18           JP        JAPAN",
      "text/html": "<div>\n<style scoped>\n    .dataframe tbody tr th:only-of-type {\n        vertical-align: middle;\n    }\n\n    .dataframe tbody tr th {\n        vertical-align: top;\n    }\n\n    .dataframe thead th {\n        text-align: right;\n    }\n</style>\n<table border=\"1\" class=\"dataframe\">\n  <thead>\n    <tr style=\"text-align: right;\">\n      <th></th>\n      <th>name</th>\n      <th>birthday</th>\n      <th>company_code</th>\n      <th>company_name</th>\n    </tr>\n  </thead>\n  <tbody>\n    <tr>\n      <th>0</th>\n      <td>Taro Yamada</td>\n      <td>1995-10-19</td>\n      <td>JP</td>\n      <td>JAPAN</td>\n    </tr>\n    <tr>\n      <th>1</th>\n      <td>John Smith</td>\n      <td>1990-03-20</td>\n      <td>US</td>\n      <td>AMERICA</td>\n    </tr>\n    <tr>\n      <th>2</th>\n      <td>Li Wei</td>\n      <td>2003-02-01</td>\n      <td>CN</td>\n      <td>CHINA</td>\n    </tr>\n    <tr>\n      <th>3</th>\n      <td>Jiro Tanaka</td>\n      <td>1985-11-18</td>\n      <td>JP</td>\n      <td>JAPAN</td>\n    </tr>\n  </tbody>\n</table>\n</div>"
     },
     "execution_count": 49,
     "metadata": {},
     "output_type": "execute_result"
    }
   ],
   "source": [
    "company_code_master = CompanyCodeMasterFlow(df_company_code_master)\n",
    "member = MemberFlow(df_member, reference=[company_code_master])\n",
    "\n",
    "member.data"
   ],
   "metadata": {
    "collapsed": false,
    "ExecuteTime": {
     "end_time": "2024-04-13T08:40:20.099650Z",
     "start_time": "2024-04-13T08:40:20.080981Z"
    }
   },
   "id": "88bd5a98800a0838",
   "execution_count": 49
  }
 ],
 "metadata": {
  "kernelspec": {
   "display_name": "Python 3",
   "language": "python",
   "name": "python3"
  },
  "language_info": {
   "codemirror_mode": {
    "name": "ipython",
    "version": 2
   },
   "file_extension": ".py",
   "mimetype": "text/x-python",
   "name": "python",
   "nbconvert_exporter": "python",
   "pygments_lexer": "ipython2",
   "version": "2.7.6"
  }
 },
 "nbformat": 4,
 "nbformat_minor": 5
}
